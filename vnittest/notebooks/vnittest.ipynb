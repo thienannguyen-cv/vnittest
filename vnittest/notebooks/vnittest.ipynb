{
 "cells": [
  {
   "cell_type": "code",
   "execution_count": null,
   "metadata": {},
   "outputs": [],
   "source": [
    "!jupyter serverextension enable voila --sys-prefix"
   ]
  },
  {
   "cell_type": "code",
   "execution_count": null,
   "metadata": {},
   "outputs": [],
   "source": [
    "from vnittest.model import GradientModel\n",
    "from vnittest.view import Visualizer\n",
    "from vnittest.controller import UIController\n",
    "import os\n",
    "\n",
    "# ======================================================\n",
    "# Facade: Tool wrapper that packages Model, Visualizer and UIController\n",
    "# ======================================================\n",
    "class GradientFlowInteractive:\n",
    "    def __init__(self, debug_folder):\n",
    "        self.model = GradientModel(debug_folder)\n",
    "        self.visualizer = Visualizer(self.model)\n",
    "        self.ui_controller = UIController(self.model, self.visualizer)\n",
    "        \n",
    "    def allocate_resource(self):\n",
    "        self.progress_bar = self.visualizer.get_progress_bar()\n",
    "        self.model.set_progress_bar(self.progress_bar)\n",
    "        self.ui_controller.set_progress_bar(self.progress_bar)\n",
    "        self.progress_bar.set_progress(0)\n",
    "        self.visualizer.display_progress_bar()\n",
    "        self.model.allocate_resource()\n",
    "        self.ui_controller.allocate_resource()\n",
    "\n",
    "    def render_ipywidgets(self):\n",
    "        \"\"\"Render the tool using ipywidgets (for Jupyter Notebook).\"\"\"\n",
    "        self.allocate_resource()\n",
    "        self.progress_bar.set_progress(100)\n",
    "        self.visualizer.destroy_progress_bar()\n",
    "        self.ui_controller.render_ui()\n",
    "        \n",
    "    def render_webview(self, port=8050):\n",
    "        pass\n",
    "\n",
    "try:\n",
    "    debug_path_file = os.path.abspath(os.path.dirname(__file__))\n",
    "except NameError:\n",
    "    # Khi chạy trong notebook hoặc Voilà\n",
    "    debug_path_file = os.getcwd()\n",
    "\n",
    "debug_path_file = os.path.join(debug_path_file, \"debug_path\")\n",
    "with open(debug_path_file, \"r\", encoding=\"utf8\") as f:\n",
    "    debug_path = f.read()\n",
    "    \n",
    "# Khởi tạo tool với folder debug (điều chỉnh đường dẫn nếu cần)\n",
    "tool = GradientFlowInteractive(debug_path)\n",
    "# Để render trong Jupyter, gọi:\n",
    "tool.render_ipywidgets()\n",
    "\n",
    "# Để render trong WebView (ứng dụng Dash), gọi:\n",
    "# tool.render_webview(port=8050)"
   ]
  },
  {
   "cell_type": "code",
   "execution_count": null,
   "metadata": {},
   "outputs": [],
   "source": []
  }
 ],
 "metadata": {
  "kernelspec": {
   "display_name": "Python 3",
   "language": "python",
   "name": "python3"
  },
  "language_info": {
   "codemirror_mode": {
    "name": "ipython",
    "version": 3
   },
   "file_extension": ".py",
   "mimetype": "text/x-python",
   "name": "python",
   "nbconvert_exporter": "python",
   "pygments_lexer": "ipython3",
   "version": "3.6.7"
  }
 },
 "nbformat": 4,
 "nbformat_minor": 4
}
