{
 "cells": [
  {
   "cell_type": "code",
   "execution_count": null,
   "metadata": {},
   "outputs": [],
   "source": []
  },
  {
   "cell_type": "code",
   "execution_count": 6,
   "metadata": {},
   "outputs": [
    {
     "data": {
      "application/vnd.jupyter.widget-view+json": {
       "model_id": "",
       "version_major": 2,
       "version_minor": 0
      },
      "text/plain": [
       "ProgressBar(value='\\n            <div style=\"position: relative; width: 300px; height: 30px; background-color:…"
      ]
     },
     "metadata": {},
     "output_type": "display_data"
    },
    {
     "data": {
      "application/vnd.jupyter.widget-view+json": {
       "model_id": "9021f8679ff640b09529439e0a5dbbc4",
       "version_major": 2,
       "version_minor": 0
      },
      "text/plain": [
       "VBox(children=(ToggleButton(value=False, button_style='info', description='Expand Sankey Diagram', tooltip='Cl…"
      ]
     },
     "metadata": {},
     "output_type": "display_data"
    }
   ],
   "source": [
    "from vnittest.model import GradientModel\n",
    "from vnittest.view import Visualizer\n",
    "from vnittest.controller import UIController\n",
    "import os\n",
    "\n",
    "# ======================================================\n",
    "# Facade: Tool wrapper that packages Model, Visualizer and UIController\n",
    "# ======================================================\n",
    "class GradientFlowInteractive:\n",
    "    def __init__(self, debug_folder):\n",
    "        self.model = GradientModel(debug_folder)\n",
    "        self.visualizer = Visualizer(self.model)\n",
    "        self.ui_controller = UIController(self.model, self.visualizer)\n",
    "        \n",
    "    def allocate_resource(self):\n",
    "        self.progress_bar = self.visualizer.get_progress_bar()\n",
    "        self.model.set_progress_bar(self.progress_bar)\n",
    "        self.ui_controller.set_progress_bar(self.progress_bar)\n",
    "        self.progress_bar.set_progress(0)\n",
    "        self.visualizer.display_progress_bar()\n",
    "        self.model.allocate_resource()\n",
    "        self.ui_controller.allocate_resource()\n",
    "\n",
    "    def render_ipywidgets(self):\n",
    "        \"\"\"Render the tool using ipywidgets (for Jupyter Notebook).\"\"\"\n",
    "        self.allocate_resource()\n",
    "        self.progress_bar.set_progress(100)\n",
    "        self.visualizer.destroy_progress_bar()\n",
    "        self.ui_controller.render_ui()\n",
    "        \n",
    "    def render_webview(self, port=8050):\n",
    "        pass\n",
    "\n",
    "debug_path_file = os.getcwd()\n",
    "\n",
    "debug_path_file = os.path.join(debug_path_file, \"debug_path\")\n",
    "with open(debug_path_file, \"r\", encoding=\"utf8\") as f:\n",
    "    debug_path = f.read()\n",
    "    \n",
    "# Khởi tạo tool với folder debug (điều chỉnh đường dẫn nếu cần)\n",
    "tool = GradientFlowInteractive(debug_path)\n",
    "# Để render trong Jupyter, gọi:\n",
    "tool.render_ipywidgets()\n",
    "\n",
    "# Để render trong WebView (ứng dụng Dash), gọi:\n",
    "# tool.render_webview(port=8050)"
   ]
  },
  {
   "cell_type": "code",
   "execution_count": null,
   "metadata": {},
   "outputs": [],
   "source": []
  }
 ],
 "metadata": {
  "kernelspec": {
   "display_name": "Python 3",
   "language": "python",
   "name": "python3"
  },
  "language_info": {
   "codemirror_mode": {
    "name": "ipython",
    "version": 3
   },
   "file_extension": ".py",
   "mimetype": "text/x-python",
   "name": "python",
   "nbconvert_exporter": "python",
   "pygments_lexer": "ipython3",
   "version": "3.6.7"
  }
 },
 "nbformat": 4,
 "nbformat_minor": 4
}
